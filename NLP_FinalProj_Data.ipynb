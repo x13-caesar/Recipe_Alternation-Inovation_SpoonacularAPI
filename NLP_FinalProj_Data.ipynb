{
 "cells": [
  {
   "cell_type": "code",
   "execution_count": 78,
   "metadata": {
    "collapsed": true
   },
   "outputs": [],
   "source": [
    "import requests\n",
    "import csv"
   ]
  },
  {
   "cell_type": "code",
   "execution_count": 3,
   "metadata": {
    "collapsed": true
   },
   "outputs": [],
   "source": [
    "# this is my key registerede with my email. the free version only has limited access. maybe we can get 29$ month and split it. \n",
    "key = \"4801334740c5446bbde9801116774e86\""
   ]
  },
  {
   "cell_type": "markdown",
   "metadata": {},
   "source": [
    "### get recipe id"
   ]
  },
  {
   "cell_type": "code",
   "execution_count": 37,
   "metadata": {},
   "outputs": [],
   "source": [
    "# get 15 thai recipe id\n",
    "\n",
    "cuisine_lst = ['Chinese','Vietnamese','Italian','Mediterranean','French','African','Middle Eastern']\n",
    "\n",
    "def get_id(cuisine,offset,number = 100):\n",
    "    \"\"\"\n",
    "    get receipy id with cuisine type,how many to return.\n",
    "    number: how many results to return, the max is 100 therefore we can set this as default\n",
    "     \n",
    "    offset: how many results to skip. e.g. if we have already called for 100 results, \n",
    "            the next time we should start from the 101th result and therefore will have a offset at 100 \n",
    "    \"\"\"\n",
    "    response = requests.get(\"https://api.spoonacular.com/recipes/search?apiKey=\"+key+\"&cuisine=\"+cuisine+\"&number=\"+str(number)+\"&offset=\"+str(offset))\n",
    "    content = response.json()['results']\n",
    "    \n",
    "    return [x['id'] for x in content]\n",
    "    \n",
    "\n",
    "\n"
   ]
  },
  {
   "cell_type": "code",
   "execution_count": 83,
   "metadata": {},
   "outputs": [
    {
     "data": {
      "text/plain": [
       "[573147, 474222, 613045, 245209]"
      ]
     },
     "execution_count": 83,
     "metadata": {},
     "output_type": "execute_result"
    }
   ],
   "source": [
    "# example\n",
    "get_id('Chinese',0,4)"
   ]
  },
  {
   "cell_type": "code",
   "execution_count": null,
   "metadata": {
    "collapsed": true
   },
   "outputs": [],
   "source": []
  },
  {
   "cell_type": "markdown",
   "metadata": {},
   "source": [
    "### get recipe info"
   ]
  },
  {
   "cell_type": "code",
   "execution_count": 79,
   "metadata": {
    "collapsed": true
   },
   "outputs": [],
   "source": [
    "def extract_info(rid_lst, cuisine):\n",
    "    \"\"\"\n",
    "    this function will extra information and then append them into a csv file\n",
    "    \n",
    "    \"\"\"\n",
    "    for r_id in rid_lst:\n",
    "        recipe_path = \"https://api.spoonacular.com/recipes/\"+str(r_id)+\"/information?apiKey=\"+key+'&includeNutrition=true'\n",
    "        recipe = requests.get(recipe_path)\n",
    "        title = recipe.json()['title']\n",
    "        ingredients = [ingre['name'] for ingre in recipe.json()['extendedIngredients']]\n",
    "        process = [x['meta'] for x in recipe.json()['extendedIngredients']]\n",
    "        instructions = recipe.json()['instructions']\n",
    "        keto = recipe.json()['ketogenic']\n",
    "        healthScore = recipe.json()['healthScore']\n",
    "        diets = recipe.json()['diets']\n",
    "        nutritions = recipe.json()['nutrition']['caloricBreakdown']\n",
    "       \n",
    "    \n",
    "        cuisine = cuisine\n",
    "        args = cuisine,title,ingredients,process,instructions, keto, healthScore,diets,nutritions\n",
    "        with open('./nlp_finalproj.csv', 'a') as outfile:\n",
    "            writer = csv.writer(outfile)\n",
    "            writer.writerow(args)\n",
    "\n",
    "\n",
    "    "
   ]
  },
  {
   "cell_type": "markdown",
   "metadata": {},
   "source": [
    "### Example "
   ]
  },
  {
   "cell_type": "code",
   "execution_count": 82,
   "metadata": {},
   "outputs": [],
   "source": [
    "\n",
    "extract_info(get_id('thai',4,2),'thai')\n"
   ]
  },
  {
   "cell_type": "code",
   "execution_count": null,
   "metadata": {
    "collapsed": true
   },
   "outputs": [],
   "source": []
  }
 ],
 "metadata": {
  "kernelspec": {
   "display_name": "Python 3",
   "language": "python",
   "name": "python3"
  },
  "language_info": {
   "codemirror_mode": {
    "name": "ipython",
    "version": 3
   },
   "file_extension": ".py",
   "mimetype": "text/x-python",
   "name": "python",
   "nbconvert_exporter": "python",
   "pygments_lexer": "ipython3",
   "version": "3.6.1"
  }
 },
 "nbformat": 4,
 "nbformat_minor": 2
}
